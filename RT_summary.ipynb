{
 "cells": [
  {
   "cell_type": "markdown",
   "id": "c8837a9c",
   "metadata": {},
   "source": [
    "# Preparations"
   ]
  },
  {
   "cell_type": "code",
   "execution_count": 1,
   "id": "e176fdd1",
   "metadata": {},
   "outputs": [
    {
     "name": "stderr",
     "output_type": "stream",
     "text": [
      "── \u001b[1mAttaching packages\u001b[22m ─────────────────────────────────────────────────────────── tidyverse 1.3.1 ──\n",
      "\n",
      "\u001b[32m✔\u001b[39m \u001b[34mggplot2\u001b[39m 3.3.5     \u001b[32m✔\u001b[39m \u001b[34mpurrr  \u001b[39m 0.3.4\n",
      "\u001b[32m✔\u001b[39m \u001b[34mtibble \u001b[39m 3.1.2     \u001b[32m✔\u001b[39m \u001b[34mdplyr  \u001b[39m 1.0.7\n",
      "\u001b[32m✔\u001b[39m \u001b[34mtidyr  \u001b[39m 1.1.3     \u001b[32m✔\u001b[39m \u001b[34mstringr\u001b[39m 1.4.0\n",
      "\u001b[32m✔\u001b[39m \u001b[34mreadr  \u001b[39m 1.4.0     \u001b[32m✔\u001b[39m \u001b[34mforcats\u001b[39m 0.5.1\n",
      "\n",
      "── \u001b[1mConflicts\u001b[22m ────────────────────────────────────────────────────────────── tidyverse_conflicts() ──\n",
      "\u001b[31m✖\u001b[39m \u001b[34mdplyr\u001b[39m::\u001b[32mfilter()\u001b[39m masks \u001b[34mstats\u001b[39m::filter()\n",
      "\u001b[31m✖\u001b[39m \u001b[34mdplyr\u001b[39m::\u001b[32mlag()\u001b[39m    masks \u001b[34mstats\u001b[39m::lag()\n",
      "\n"
     ]
    }
   ],
   "source": [
    "library(tidyverse)"
   ]
  },
  {
   "cell_type": "code",
   "execution_count": 2,
   "id": "4d5d6da6",
   "metadata": {},
   "outputs": [],
   "source": [
    "setwd('data')"
   ]
  },
  {
   "cell_type": "markdown",
   "id": "af57852b",
   "metadata": {},
   "source": [
    "# Extract sample information from file name"
   ]
  },
  {
   "cell_type": "markdown",
   "id": "0aa2f1ba",
   "metadata": {},
   "source": [
    "Get all file names in directory."
   ]
  },
  {
   "cell_type": "code",
   "execution_count": 3,
   "id": "48245835",
   "metadata": {},
   "outputs": [],
   "source": [
    "file_list <- list.files()"
   ]
  },
  {
   "cell_type": "markdown",
   "id": "603a052a",
   "metadata": {},
   "source": [
    "Get information from file names."
   ]
  },
  {
   "cell_type": "code",
   "execution_count": 4,
   "id": "56bccd91",
   "metadata": {},
   "outputs": [
    {
     "name": "stderr",
     "output_type": "stream",
     "text": [
      "Warning message:\n",
      "“Expected 6 pieces. Missing pieces filled with `NA` in 2 rows [5, 6].”\n"
     ]
    }
   ],
   "source": [
    "df_info <- as.data.frame(file_list) %>%\n",
    "    mutate(sample = file_list) %>%\n",
    "    separate(file_list,c('date_measurement','exp_number','analysis_type','mode',NA,NA), sep='_') %>%\n",
    "    mutate(date_measurement = strptime(date_measurement, \"%Y%m%d\"))"
   ]
  },
  {
   "cell_type": "markdown",
   "id": "39e970d6",
   "metadata": {},
   "source": [
    "# Combine files into single dataframe"
   ]
  },
  {
   "cell_type": "code",
   "execution_count": 5,
   "id": "ad883f7f",
   "metadata": {},
   "outputs": [],
   "source": [
    "i <- 1\n",
    "df_RT <- setNames(data.frame(matrix(ncol = 3, nrow = 0)), c(\"compound\", \"compoundId\", \"medRt\"))\n",
    "\n",
    "for (files in file_list){\n",
    "    df <- read.csv(files) %>%\n",
    "    select(10,11,6)# %>%\n",
    "    df$sample <- file_list[i]\n",
    "    df_RT <- rbind(df_RT, df)\n",
    "    i <- i+1\n",
    "}"
   ]
  },
  {
   "cell_type": "markdown",
   "id": "4c3dcb3f",
   "metadata": {},
   "source": [
    "# Combine data and data info"
   ]
  },
  {
   "cell_type": "code",
   "execution_count": 6,
   "id": "946a2c71",
   "metadata": {
    "scrolled": true
   },
   "outputs": [],
   "source": [
    "data <- merge(df_RT,df_info,by='sample',all.x=TRUE) %>%\n",
    "    rename(RT = medRt)"
   ]
  },
  {
   "cell_type": "code",
   "execution_count": 7,
   "id": "c2c9f31d",
   "metadata": {},
   "outputs": [
    {
     "data": {
      "text/html": [
       "<table class=\"dataframe\">\n",
       "<caption>A data.frame: 6 × 8</caption>\n",
       "<thead>\n",
       "\t<tr><th></th><th scope=col>sample</th><th scope=col>compound</th><th scope=col>compoundId</th><th scope=col>RT</th><th scope=col>date_measurement</th><th scope=col>exp_number</th><th scope=col>analysis_type</th><th scope=col>mode</th></tr>\n",
       "\t<tr><th></th><th scope=col>&lt;chr&gt;</th><th scope=col>&lt;fct&gt;</th><th scope=col>&lt;fct&gt;</th><th scope=col>&lt;dbl&gt;</th><th scope=col>&lt;dttm&gt;</th><th scope=col>&lt;chr&gt;</th><th scope=col>&lt;chr&gt;</th><th scope=col>&lt;chr&gt;</th></tr>\n",
       "</thead>\n",
       "<tbody>\n",
       "\t<tr><th scope=row>1</th><td>20201104_LS20-027_Lipids_Neg_Xin_6MLiver.csv</td><td>PE(C34:1) M-H  </td><td>PE(C34:1) M-H  </td><td> 9.308</td><td>2020-11-04</td><td>LS20-027</td><td>Lipids</td><td>Neg</td></tr>\n",
       "\t<tr><th scope=row>2</th><td>20201104_LS20-027_Lipids_Neg_Xin_6MLiver.csv</td><td>PE(C34:2) M-H  </td><td>PE(C34:2) M-H  </td><td> 9.020</td><td>2020-11-04</td><td>LS20-027</td><td>Lipids</td><td>Neg</td></tr>\n",
       "\t<tr><th scope=row>3</th><td>20201104_LS20-027_Lipids_Neg_Xin_6MLiver.csv</td><td>PE(C34:3) M-H  </td><td>PE(C34:3) M-H  </td><td> 8.754</td><td>2020-11-04</td><td>LS20-027</td><td>Lipids</td><td>Neg</td></tr>\n",
       "\t<tr><th scope=row>4</th><td>20201104_LS20-027_Lipids_Neg_Xin_6MLiver.csv</td><td>PE(O-C36:1) M-H</td><td>PE(O-C36:1) M-H</td><td>10.140</td><td>2020-11-04</td><td>LS20-027</td><td>Lipids</td><td>Neg</td></tr>\n",
       "\t<tr><th scope=row>5</th><td>20201104_LS20-027_Lipids_Neg_Xin_6MLiver.csv</td><td>PE(O-C36:2) M-H</td><td>PE(O-C36:2) M-H</td><td>10.026</td><td>2020-11-04</td><td>LS20-027</td><td>Lipids</td><td>Neg</td></tr>\n",
       "\t<tr><th scope=row>6</th><td>20201104_LS20-027_Lipids_Neg_Xin_6MLiver.csv</td><td>PE(O-C36:5) M-H</td><td>PE(O-C36:5) M-H</td><td> 9.132</td><td>2020-11-04</td><td>LS20-027</td><td>Lipids</td><td>Neg</td></tr>\n",
       "</tbody>\n",
       "</table>\n"
      ],
      "text/latex": [
       "A data.frame: 6 × 8\n",
       "\\begin{tabular}{r|llllllll}\n",
       "  & sample & compound & compoundId & RT & date\\_measurement & exp\\_number & analysis\\_type & mode\\\\\n",
       "  & <chr> & <fct> & <fct> & <dbl> & <dttm> & <chr> & <chr> & <chr>\\\\\n",
       "\\hline\n",
       "\t1 & 20201104\\_LS20-027\\_Lipids\\_Neg\\_Xin\\_6MLiver.csv & PE(C34:1) M-H   & PE(C34:1) M-H   &  9.308 & 2020-11-04 & LS20-027 & Lipids & Neg\\\\\n",
       "\t2 & 20201104\\_LS20-027\\_Lipids\\_Neg\\_Xin\\_6MLiver.csv & PE(C34:2) M-H   & PE(C34:2) M-H   &  9.020 & 2020-11-04 & LS20-027 & Lipids & Neg\\\\\n",
       "\t3 & 20201104\\_LS20-027\\_Lipids\\_Neg\\_Xin\\_6MLiver.csv & PE(C34:3) M-H   & PE(C34:3) M-H   &  8.754 & 2020-11-04 & LS20-027 & Lipids & Neg\\\\\n",
       "\t4 & 20201104\\_LS20-027\\_Lipids\\_Neg\\_Xin\\_6MLiver.csv & PE(O-C36:1) M-H & PE(O-C36:1) M-H & 10.140 & 2020-11-04 & LS20-027 & Lipids & Neg\\\\\n",
       "\t5 & 20201104\\_LS20-027\\_Lipids\\_Neg\\_Xin\\_6MLiver.csv & PE(O-C36:2) M-H & PE(O-C36:2) M-H & 10.026 & 2020-11-04 & LS20-027 & Lipids & Neg\\\\\n",
       "\t6 & 20201104\\_LS20-027\\_Lipids\\_Neg\\_Xin\\_6MLiver.csv & PE(O-C36:5) M-H & PE(O-C36:5) M-H &  9.132 & 2020-11-04 & LS20-027 & Lipids & Neg\\\\\n",
       "\\end{tabular}\n"
      ],
      "text/markdown": [
       "\n",
       "A data.frame: 6 × 8\n",
       "\n",
       "| <!--/--> | sample &lt;chr&gt; | compound &lt;fct&gt; | compoundId &lt;fct&gt; | RT &lt;dbl&gt; | date_measurement &lt;dttm&gt; | exp_number &lt;chr&gt; | analysis_type &lt;chr&gt; | mode &lt;chr&gt; |\n",
       "|---|---|---|---|---|---|---|---|---|\n",
       "| 1 | 20201104_LS20-027_Lipids_Neg_Xin_6MLiver.csv | PE(C34:1) M-H   | PE(C34:1) M-H   |  9.308 | 2020-11-04 | LS20-027 | Lipids | Neg |\n",
       "| 2 | 20201104_LS20-027_Lipids_Neg_Xin_6MLiver.csv | PE(C34:2) M-H   | PE(C34:2) M-H   |  9.020 | 2020-11-04 | LS20-027 | Lipids | Neg |\n",
       "| 3 | 20201104_LS20-027_Lipids_Neg_Xin_6MLiver.csv | PE(C34:3) M-H   | PE(C34:3) M-H   |  8.754 | 2020-11-04 | LS20-027 | Lipids | Neg |\n",
       "| 4 | 20201104_LS20-027_Lipids_Neg_Xin_6MLiver.csv | PE(O-C36:1) M-H | PE(O-C36:1) M-H | 10.140 | 2020-11-04 | LS20-027 | Lipids | Neg |\n",
       "| 5 | 20201104_LS20-027_Lipids_Neg_Xin_6MLiver.csv | PE(O-C36:2) M-H | PE(O-C36:2) M-H | 10.026 | 2020-11-04 | LS20-027 | Lipids | Neg |\n",
       "| 6 | 20201104_LS20-027_Lipids_Neg_Xin_6MLiver.csv | PE(O-C36:5) M-H | PE(O-C36:5) M-H |  9.132 | 2020-11-04 | LS20-027 | Lipids | Neg |\n",
       "\n"
      ],
      "text/plain": [
       "  sample                                       compound        compoundId     \n",
       "1 20201104_LS20-027_Lipids_Neg_Xin_6MLiver.csv PE(C34:1) M-H   PE(C34:1) M-H  \n",
       "2 20201104_LS20-027_Lipids_Neg_Xin_6MLiver.csv PE(C34:2) M-H   PE(C34:2) M-H  \n",
       "3 20201104_LS20-027_Lipids_Neg_Xin_6MLiver.csv PE(C34:3) M-H   PE(C34:3) M-H  \n",
       "4 20201104_LS20-027_Lipids_Neg_Xin_6MLiver.csv PE(O-C36:1) M-H PE(O-C36:1) M-H\n",
       "5 20201104_LS20-027_Lipids_Neg_Xin_6MLiver.csv PE(O-C36:2) M-H PE(O-C36:2) M-H\n",
       "6 20201104_LS20-027_Lipids_Neg_Xin_6MLiver.csv PE(O-C36:5) M-H PE(O-C36:5) M-H\n",
       "  RT     date_measurement exp_number analysis_type mode\n",
       "1  9.308 2020-11-04       LS20-027   Lipids        Neg \n",
       "2  9.020 2020-11-04       LS20-027   Lipids        Neg \n",
       "3  8.754 2020-11-04       LS20-027   Lipids        Neg \n",
       "4 10.140 2020-11-04       LS20-027   Lipids        Neg \n",
       "5 10.026 2020-11-04       LS20-027   Lipids        Neg \n",
       "6  9.132 2020-11-04       LS20-027   Lipids        Neg "
      ]
     },
     "metadata": {},
     "output_type": "display_data"
    }
   ],
   "source": [
    "head(data)"
   ]
  },
  {
   "cell_type": "markdown",
   "id": "f4f74cdd",
   "metadata": {},
   "source": [
    "# Put RT into context"
   ]
  },
  {
   "cell_type": "markdown",
   "id": "b1e89a34",
   "metadata": {},
   "source": [
    "## Calculate average RT"
   ]
  },
  {
   "cell_type": "code",
   "execution_count": 8,
   "id": "576f3bb9",
   "metadata": {},
   "outputs": [],
   "source": [
    "data_sum <- data %>%\n",
    "    group_by(compound) %>%\n",
    "    summarize(mean = mean(RT),\n",
    "              n = n(),\n",
    "              sd = sd(RT)\n",
    "             )"
   ]
  },
  {
   "cell_type": "markdown",
   "id": "56212b80",
   "metadata": {},
   "source": [
    "## Add statistics to main dataframe"
   ]
  },
  {
   "cell_type": "code",
   "execution_count": 9,
   "id": "57ac32c9",
   "metadata": {},
   "outputs": [],
   "source": [
    "data <- merge(data,data_sum,by='compound',all.x=TRUE)"
   ]
  },
  {
   "cell_type": "markdown",
   "id": "7a895af2",
   "metadata": {},
   "source": [
    "## Calculate difference between RT and meanRT"
   ]
  },
  {
   "cell_type": "code",
   "execution_count": 10,
   "id": "ec83519b",
   "metadata": {},
   "outputs": [],
   "source": [
    "data <- data %>%\n",
    "    mutate(cov = sd/mean*100)"
   ]
  },
  {
   "cell_type": "code",
   "execution_count": 11,
   "id": "4e7380e0",
   "metadata": {},
   "outputs": [
    {
     "data": {
      "text/html": [
       "<style>\n",
       ".list-inline {list-style: none; margin:0; padding: 0}\n",
       ".list-inline>li {display: inline-block}\n",
       ".list-inline>li:not(:last-child)::after {content: \"\\00b7\"; padding: 0 .5ex}\n",
       "</style>\n",
       "<ol class=list-inline><li>'compound'</li><li>'sample'</li><li>'compoundId'</li><li>'RT'</li><li>'date_measurement'</li><li>'exp_number'</li><li>'analysis_type'</li><li>'mode'</li><li>'mean'</li><li>'n'</li><li>'sd'</li><li>'cov'</li></ol>\n"
      ],
      "text/latex": [
       "\\begin{enumerate*}\n",
       "\\item 'compound'\n",
       "\\item 'sample'\n",
       "\\item 'compoundId'\n",
       "\\item 'RT'\n",
       "\\item 'date\\_measurement'\n",
       "\\item 'exp\\_number'\n",
       "\\item 'analysis\\_type'\n",
       "\\item 'mode'\n",
       "\\item 'mean'\n",
       "\\item 'n'\n",
       "\\item 'sd'\n",
       "\\item 'cov'\n",
       "\\end{enumerate*}\n"
      ],
      "text/markdown": [
       "1. 'compound'\n",
       "2. 'sample'\n",
       "3. 'compoundId'\n",
       "4. 'RT'\n",
       "5. 'date_measurement'\n",
       "6. 'exp_number'\n",
       "7. 'analysis_type'\n",
       "8. 'mode'\n",
       "9. 'mean'\n",
       "10. 'n'\n",
       "11. 'sd'\n",
       "12. 'cov'\n",
       "\n",
       "\n"
      ],
      "text/plain": [
       " [1] \"compound\"         \"sample\"           \"compoundId\"       \"RT\"              \n",
       " [5] \"date_measurement\" \"exp_number\"       \"analysis_type\"    \"mode\"            \n",
       " [9] \"mean\"             \"n\"                \"sd\"               \"cov\"             "
      ]
     },
     "metadata": {},
     "output_type": "display_data"
    }
   ],
   "source": [
    "names(data)"
   ]
  },
  {
   "cell_type": "markdown",
   "id": "2478b547",
   "metadata": {},
   "source": [
    "## Reorder columns"
   ]
  },
  {
   "cell_type": "code",
   "execution_count": 12,
   "id": "db1b315d",
   "metadata": {},
   "outputs": [],
   "source": [
    "data <- data[,c(2,6,5,8,7,3,1,4,9,12,10,11)]"
   ]
  },
  {
   "cell_type": "markdown",
   "id": "208a346d",
   "metadata": {},
   "source": [
    "# Print samples with deviating RT"
   ]
  },
  {
   "cell_type": "code",
   "execution_count": 13,
   "id": "d3692e9b",
   "metadata": {
    "scrolled": false
   },
   "outputs": [],
   "source": [
    "data_outliers <- data %>%\n",
    "    filter(cov > 15)"
   ]
  },
  {
   "cell_type": "code",
   "execution_count": 14,
   "id": "34f32b26",
   "metadata": {
    "scrolled": true
   },
   "outputs": [],
   "source": [
    "data_mean <- data %>%\n",
    "    group_by(compound) %>%\n",
    "    select(analysis_type, compound, mean, n, sd)"
   ]
  },
  {
   "cell_type": "code",
   "execution_count": 17,
   "id": "418f2ae8",
   "metadata": {
    "scrolled": true
   },
   "outputs": [
    {
     "data": {
      "text/html": [
       "<table class=\"dataframe\">\n",
       "<caption>A grouped_df: 507 × 5</caption>\n",
       "<thead>\n",
       "\t<tr><th scope=col>analysis_type</th><th scope=col>compound</th><th scope=col>mean</th><th scope=col>n</th><th scope=col>sd</th></tr>\n",
       "\t<tr><th scope=col>&lt;chr&gt;</th><th scope=col>&lt;fct&gt;</th><th scope=col>&lt;dbl&gt;</th><th scope=col>&lt;int&gt;</th><th scope=col>&lt;dbl&gt;</th></tr>\n",
       "</thead>\n",
       "<tbody>\n",
       "\t<tr><td>Lipids</td><td>Cer(d18:1/22:0)                </td><td>10.76500</td><td>1</td><td>        NA</td></tr>\n",
       "\t<tr><td>Lipids</td><td>Cholesterol[-H2O]              </td><td> 8.60750</td><td>2</td><td>0.05444722</td></tr>\n",
       "\t<tr><td>Lipids</td><td>Cholesterol[-H2O]              </td><td> 8.60750</td><td>2</td><td>0.05444722</td></tr>\n",
       "\t<tr><td>Lipids</td><td>FA(16:0) M-H                   </td><td> 7.71400</td><td>1</td><td>        NA</td></tr>\n",
       "\t<tr><td>Lipids</td><td>FA(16:1) M-H                   </td><td> 7.37400</td><td>1</td><td>        NA</td></tr>\n",
       "\t<tr><td>Lipids</td><td>FA(18:1) M-H                   </td><td> 7.79500</td><td>1</td><td>        NA</td></tr>\n",
       "\t<tr><td>Lipids</td><td>FA(18:2) M-H                   </td><td> 7.48700</td><td>1</td><td>        NA</td></tr>\n",
       "\t<tr><td>Lipids</td><td>FA(20:3) M-H                   </td><td> 7.62500</td><td>1</td><td>        NA</td></tr>\n",
       "\t<tr><td>Lipids</td><td>FA(20:4) M-H                   </td><td> 7.43800</td><td>1</td><td>        NA</td></tr>\n",
       "\t<tr><td>Lipids</td><td>FA(20:5) M-H                   </td><td> 7.16100</td><td>1</td><td>        NA</td></tr>\n",
       "\t<tr><td>Lipids</td><td>FA(22:4) M-H                   </td><td> 7.76400</td><td>1</td><td>        NA</td></tr>\n",
       "\t<tr><td>Lipids</td><td>FA(22:5) M-H                   </td><td> 7.55100</td><td>1</td><td>        NA</td></tr>\n",
       "\t<tr><td>Lipids</td><td>FA(22:6) M-H                   </td><td> 7.34300</td><td>1</td><td>        NA</td></tr>\n",
       "\t<tr><td>Lipids</td><td>IS_15:0-18:1(d7) DAG [-H2O] M+H</td><td>14.14700</td><td>2</td><td>1.84130606</td></tr>\n",
       "\t<tr><td>Lipids</td><td>IS_15:0-18:1(d7) DAG [-H2O] M+H</td><td>14.14700</td><td>2</td><td>1.84130606</td></tr>\n",
       "\t<tr><td>Lipids</td><td>IS_15:0-18:1(d7) PA M-H        </td><td>12.67300</td><td>1</td><td>        NA</td></tr>\n",
       "\t<tr><td>Lipids</td><td>IS_15:0-18:1(d7) PC M+H        </td><td> 9.32700</td><td>2</td><td>0.02828427</td></tr>\n",
       "\t<tr><td>Lipids</td><td>IS_15:0-18:1(d7) PC M+H        </td><td> 9.32700</td><td>2</td><td>0.02828427</td></tr>\n",
       "\t<tr><td>Lipids</td><td>IS_15:0-18:1(d7) PE M-H        </td><td> 9.13950</td><td>2</td><td>0.07848885</td></tr>\n",
       "\t<tr><td>Lipids</td><td>IS_15:0-18:1(d7) PE M-H        </td><td> 9.13950</td><td>2</td><td>0.07848885</td></tr>\n",
       "\t<tr><td>Lipids</td><td>IS_15:0-18:1(d7) PG M-H        </td><td>14.12550</td><td>2</td><td>1.79817254</td></tr>\n",
       "\t<tr><td>Lipids</td><td>IS_15:0-18:1(d7) PG M-H        </td><td>14.12550</td><td>2</td><td>1.79817254</td></tr>\n",
       "\t<tr><td>Lipids</td><td>IS_15:0-18:1(d7) PI M-H        </td><td>13.09925</td><td>4</td><td>1.21639806</td></tr>\n",
       "\t<tr><td>Lipids</td><td>IS_15:0-18:1(d7) PI M-H        </td><td>13.09925</td><td>4</td><td>1.21639806</td></tr>\n",
       "\t<tr><td>Lipids</td><td>IS_15:0-18:1(d7) PI M-H        </td><td>13.09925</td><td>4</td><td>1.21639806</td></tr>\n",
       "\t<tr><td>Lipids</td><td>IS_15:0-18:1(d7) PI M-H        </td><td>13.09925</td><td>4</td><td>1.21639806</td></tr>\n",
       "\t<tr><td>Lipids</td><td>IS_15:0-18:1(d7)-15:0 TAG M+Na </td><td>16.44400</td><td>2</td><td>0.17960512</td></tr>\n",
       "\t<tr><td>Lipids</td><td>IS_15:0-18:1(d7)-15:0 TAG M+Na </td><td>16.44400</td><td>2</td><td>0.17960512</td></tr>\n",
       "\t<tr><td>Lipids</td><td>IS_18:1(d7) Lyso PC M+H        </td><td> 6.88100</td><td>1</td><td>        NA</td></tr>\n",
       "\t<tr><td>Lipids</td><td>IS_18:1(d7) Lyso PE M-H        </td><td> 7.05300</td><td>2</td><td>0.18950462</td></tr>\n",
       "\t<tr><td>⋮</td><td>⋮</td><td>⋮</td><td>⋮</td><td>⋮</td></tr>\n",
       "\t<tr><td>Lipids</td><td>TG(54:7) M+Na </td><td>13.49500</td><td>4</td><td>0.381150889</td></tr>\n",
       "\t<tr><td>Lipids</td><td>TG(54:7) M+Na </td><td>13.49500</td><td>4</td><td>0.381150889</td></tr>\n",
       "\t<tr><td>Lipids</td><td>TG(56:2) M+Na </td><td>26.33400</td><td>2</td><td>0.629325035</td></tr>\n",
       "\t<tr><td>Lipids</td><td>TG(56:2) M+Na </td><td>26.33400</td><td>2</td><td>0.629325035</td></tr>\n",
       "\t<tr><td>Lipids</td><td>TG(56:3) M+Na </td><td>22.54900</td><td>2</td><td>0.359210245</td></tr>\n",
       "\t<tr><td>Lipids</td><td>TG(56:3) M+Na </td><td>22.54900</td><td>2</td><td>0.359210245</td></tr>\n",
       "\t<tr><td>Lipids</td><td>TG(56:4) M+Na </td><td>19.62300</td><td>2</td><td>0.287085353</td></tr>\n",
       "\t<tr><td>Lipids</td><td>TG(56:4) M+Na </td><td>19.62300</td><td>2</td><td>0.287085353</td></tr>\n",
       "\t<tr><td>Lipids</td><td>TG(56:5) M+Na </td><td>17.94933</td><td>3</td><td>0.412039238</td></tr>\n",
       "\t<tr><td>Lipids</td><td>TG(56:5) M+Na </td><td>17.94933</td><td>3</td><td>0.412039238</td></tr>\n",
       "\t<tr><td>Lipids</td><td>TG(56:5) M+Na </td><td>17.94933</td><td>3</td><td>0.412039238</td></tr>\n",
       "\t<tr><td>Lipids</td><td>TG(56:6) M+Na </td><td>16.12950</td><td>2</td><td>0.171826948</td></tr>\n",
       "\t<tr><td>Lipids</td><td>TG(56:6) M+Na </td><td>16.12950</td><td>2</td><td>0.171826948</td></tr>\n",
       "\t<tr><td>Lipids</td><td>TG(56:7) M+Na </td><td>15.36550</td><td>2</td><td>0.304763023</td></tr>\n",
       "\t<tr><td>Lipids</td><td>TG(56:7) M+Na </td><td>15.36550</td><td>2</td><td>0.304763023</td></tr>\n",
       "\t<tr><td>Lipids</td><td>TG(56:8) M+Na </td><td>13.87450</td><td>2</td><td>0.006363961</td></tr>\n",
       "\t<tr><td>Lipids</td><td>TG(56:8) M+Na </td><td>13.87450</td><td>2</td><td>0.006363961</td></tr>\n",
       "\t<tr><td>Lipids</td><td>TG(56:9) M+Na </td><td>12.90900</td><td>2</td><td>0.045254834</td></tr>\n",
       "\t<tr><td>Lipids</td><td>TG(56:9) M+Na </td><td>12.90900</td><td>2</td><td>0.045254834</td></tr>\n",
       "\t<tr><td>Lipids</td><td>TG(58:10) M+Na</td><td>13.05650</td><td>2</td><td>0.102530483</td></tr>\n",
       "\t<tr><td>Lipids</td><td>TG(58:10) M+Na</td><td>13.05650</td><td>2</td><td>0.102530483</td></tr>\n",
       "\t<tr><td>Lipids</td><td>TG(58:6) M+Na </td><td>18.22750</td><td>2</td><td>0.402343758</td></tr>\n",
       "\t<tr><td>Lipids</td><td>TG(58:6) M+Na </td><td>18.22750</td><td>2</td><td>0.402343758</td></tr>\n",
       "\t<tr><td>Lipids</td><td>TG(58:7) M+Na </td><td>16.47850</td><td>2</td><td>0.303348809</td></tr>\n",
       "\t<tr><td>Lipids</td><td>TG(58:7) M+Na </td><td>16.47850</td><td>2</td><td>0.303348809</td></tr>\n",
       "\t<tr><td>Lipids</td><td>TG(58:8) M+Na </td><td>15.24467</td><td>3</td><td>0.493001352</td></tr>\n",
       "\t<tr><td>Lipids</td><td>TG(58:8) M+Na </td><td>15.24467</td><td>3</td><td>0.493001352</td></tr>\n",
       "\t<tr><td>Lipids</td><td>TG(58:8) M+Na </td><td>15.24467</td><td>3</td><td>0.493001352</td></tr>\n",
       "\t<tr><td>Lipids</td><td>TG(58:9) M+Na </td><td>14.14500</td><td>2</td><td>0.141421356</td></tr>\n",
       "\t<tr><td>Lipids</td><td>TG(58:9) M+Na </td><td>14.14500</td><td>2</td><td>0.141421356</td></tr>\n",
       "</tbody>\n",
       "</table>\n"
      ],
      "text/latex": [
       "A grouped\\_df: 507 × 5\n",
       "\\begin{tabular}{lllll}\n",
       " analysis\\_type & compound & mean & n & sd\\\\\n",
       " <chr> & <fct> & <dbl> & <int> & <dbl>\\\\\n",
       "\\hline\n",
       "\t Lipids & Cer(d18:1/22:0)                 & 10.76500 & 1 &         NA\\\\\n",
       "\t Lipids & Cholesterol{[}-H2O{]}               &  8.60750 & 2 & 0.05444722\\\\\n",
       "\t Lipids & Cholesterol{[}-H2O{]}               &  8.60750 & 2 & 0.05444722\\\\\n",
       "\t Lipids & FA(16:0) M-H                    &  7.71400 & 1 &         NA\\\\\n",
       "\t Lipids & FA(16:1) M-H                    &  7.37400 & 1 &         NA\\\\\n",
       "\t Lipids & FA(18:1) M-H                    &  7.79500 & 1 &         NA\\\\\n",
       "\t Lipids & FA(18:2) M-H                    &  7.48700 & 1 &         NA\\\\\n",
       "\t Lipids & FA(20:3) M-H                    &  7.62500 & 1 &         NA\\\\\n",
       "\t Lipids & FA(20:4) M-H                    &  7.43800 & 1 &         NA\\\\\n",
       "\t Lipids & FA(20:5) M-H                    &  7.16100 & 1 &         NA\\\\\n",
       "\t Lipids & FA(22:4) M-H                    &  7.76400 & 1 &         NA\\\\\n",
       "\t Lipids & FA(22:5) M-H                    &  7.55100 & 1 &         NA\\\\\n",
       "\t Lipids & FA(22:6) M-H                    &  7.34300 & 1 &         NA\\\\\n",
       "\t Lipids & IS\\_15:0-18:1(d7) DAG {[}-H2O{]} M+H & 14.14700 & 2 & 1.84130606\\\\\n",
       "\t Lipids & IS\\_15:0-18:1(d7) DAG {[}-H2O{]} M+H & 14.14700 & 2 & 1.84130606\\\\\n",
       "\t Lipids & IS\\_15:0-18:1(d7) PA M-H         & 12.67300 & 1 &         NA\\\\\n",
       "\t Lipids & IS\\_15:0-18:1(d7) PC M+H         &  9.32700 & 2 & 0.02828427\\\\\n",
       "\t Lipids & IS\\_15:0-18:1(d7) PC M+H         &  9.32700 & 2 & 0.02828427\\\\\n",
       "\t Lipids & IS\\_15:0-18:1(d7) PE M-H         &  9.13950 & 2 & 0.07848885\\\\\n",
       "\t Lipids & IS\\_15:0-18:1(d7) PE M-H         &  9.13950 & 2 & 0.07848885\\\\\n",
       "\t Lipids & IS\\_15:0-18:1(d7) PG M-H         & 14.12550 & 2 & 1.79817254\\\\\n",
       "\t Lipids & IS\\_15:0-18:1(d7) PG M-H         & 14.12550 & 2 & 1.79817254\\\\\n",
       "\t Lipids & IS\\_15:0-18:1(d7) PI M-H         & 13.09925 & 4 & 1.21639806\\\\\n",
       "\t Lipids & IS\\_15:0-18:1(d7) PI M-H         & 13.09925 & 4 & 1.21639806\\\\\n",
       "\t Lipids & IS\\_15:0-18:1(d7) PI M-H         & 13.09925 & 4 & 1.21639806\\\\\n",
       "\t Lipids & IS\\_15:0-18:1(d7) PI M-H         & 13.09925 & 4 & 1.21639806\\\\\n",
       "\t Lipids & IS\\_15:0-18:1(d7)-15:0 TAG M+Na  & 16.44400 & 2 & 0.17960512\\\\\n",
       "\t Lipids & IS\\_15:0-18:1(d7)-15:0 TAG M+Na  & 16.44400 & 2 & 0.17960512\\\\\n",
       "\t Lipids & IS\\_18:1(d7) Lyso PC M+H         &  6.88100 & 1 &         NA\\\\\n",
       "\t Lipids & IS\\_18:1(d7) Lyso PE M-H         &  7.05300 & 2 & 0.18950462\\\\\n",
       "\t ⋮ & ⋮ & ⋮ & ⋮ & ⋮\\\\\n",
       "\t Lipids & TG(54:7) M+Na  & 13.49500 & 4 & 0.381150889\\\\\n",
       "\t Lipids & TG(54:7) M+Na  & 13.49500 & 4 & 0.381150889\\\\\n",
       "\t Lipids & TG(56:2) M+Na  & 26.33400 & 2 & 0.629325035\\\\\n",
       "\t Lipids & TG(56:2) M+Na  & 26.33400 & 2 & 0.629325035\\\\\n",
       "\t Lipids & TG(56:3) M+Na  & 22.54900 & 2 & 0.359210245\\\\\n",
       "\t Lipids & TG(56:3) M+Na  & 22.54900 & 2 & 0.359210245\\\\\n",
       "\t Lipids & TG(56:4) M+Na  & 19.62300 & 2 & 0.287085353\\\\\n",
       "\t Lipids & TG(56:4) M+Na  & 19.62300 & 2 & 0.287085353\\\\\n",
       "\t Lipids & TG(56:5) M+Na  & 17.94933 & 3 & 0.412039238\\\\\n",
       "\t Lipids & TG(56:5) M+Na  & 17.94933 & 3 & 0.412039238\\\\\n",
       "\t Lipids & TG(56:5) M+Na  & 17.94933 & 3 & 0.412039238\\\\\n",
       "\t Lipids & TG(56:6) M+Na  & 16.12950 & 2 & 0.171826948\\\\\n",
       "\t Lipids & TG(56:6) M+Na  & 16.12950 & 2 & 0.171826948\\\\\n",
       "\t Lipids & TG(56:7) M+Na  & 15.36550 & 2 & 0.304763023\\\\\n",
       "\t Lipids & TG(56:7) M+Na  & 15.36550 & 2 & 0.304763023\\\\\n",
       "\t Lipids & TG(56:8) M+Na  & 13.87450 & 2 & 0.006363961\\\\\n",
       "\t Lipids & TG(56:8) M+Na  & 13.87450 & 2 & 0.006363961\\\\\n",
       "\t Lipids & TG(56:9) M+Na  & 12.90900 & 2 & 0.045254834\\\\\n",
       "\t Lipids & TG(56:9) M+Na  & 12.90900 & 2 & 0.045254834\\\\\n",
       "\t Lipids & TG(58:10) M+Na & 13.05650 & 2 & 0.102530483\\\\\n",
       "\t Lipids & TG(58:10) M+Na & 13.05650 & 2 & 0.102530483\\\\\n",
       "\t Lipids & TG(58:6) M+Na  & 18.22750 & 2 & 0.402343758\\\\\n",
       "\t Lipids & TG(58:6) M+Na  & 18.22750 & 2 & 0.402343758\\\\\n",
       "\t Lipids & TG(58:7) M+Na  & 16.47850 & 2 & 0.303348809\\\\\n",
       "\t Lipids & TG(58:7) M+Na  & 16.47850 & 2 & 0.303348809\\\\\n",
       "\t Lipids & TG(58:8) M+Na  & 15.24467 & 3 & 0.493001352\\\\\n",
       "\t Lipids & TG(58:8) M+Na  & 15.24467 & 3 & 0.493001352\\\\\n",
       "\t Lipids & TG(58:8) M+Na  & 15.24467 & 3 & 0.493001352\\\\\n",
       "\t Lipids & TG(58:9) M+Na  & 14.14500 & 2 & 0.141421356\\\\\n",
       "\t Lipids & TG(58:9) M+Na  & 14.14500 & 2 & 0.141421356\\\\\n",
       "\\end{tabular}\n"
      ],
      "text/markdown": [
       "\n",
       "A grouped_df: 507 × 5\n",
       "\n",
       "| analysis_type &lt;chr&gt; | compound &lt;fct&gt; | mean &lt;dbl&gt; | n &lt;int&gt; | sd &lt;dbl&gt; |\n",
       "|---|---|---|---|---|\n",
       "| Lipids | Cer(d18:1/22:0)                 | 10.76500 | 1 |         NA |\n",
       "| Lipids | Cholesterol[-H2O]               |  8.60750 | 2 | 0.05444722 |\n",
       "| Lipids | Cholesterol[-H2O]               |  8.60750 | 2 | 0.05444722 |\n",
       "| Lipids | FA(16:0) M-H                    |  7.71400 | 1 |         NA |\n",
       "| Lipids | FA(16:1) M-H                    |  7.37400 | 1 |         NA |\n",
       "| Lipids | FA(18:1) M-H                    |  7.79500 | 1 |         NA |\n",
       "| Lipids | FA(18:2) M-H                    |  7.48700 | 1 |         NA |\n",
       "| Lipids | FA(20:3) M-H                    |  7.62500 | 1 |         NA |\n",
       "| Lipids | FA(20:4) M-H                    |  7.43800 | 1 |         NA |\n",
       "| Lipids | FA(20:5) M-H                    |  7.16100 | 1 |         NA |\n",
       "| Lipids | FA(22:4) M-H                    |  7.76400 | 1 |         NA |\n",
       "| Lipids | FA(22:5) M-H                    |  7.55100 | 1 |         NA |\n",
       "| Lipids | FA(22:6) M-H                    |  7.34300 | 1 |         NA |\n",
       "| Lipids | IS_15:0-18:1(d7) DAG [-H2O] M+H | 14.14700 | 2 | 1.84130606 |\n",
       "| Lipids | IS_15:0-18:1(d7) DAG [-H2O] M+H | 14.14700 | 2 | 1.84130606 |\n",
       "| Lipids | IS_15:0-18:1(d7) PA M-H         | 12.67300 | 1 |         NA |\n",
       "| Lipids | IS_15:0-18:1(d7) PC M+H         |  9.32700 | 2 | 0.02828427 |\n",
       "| Lipids | IS_15:0-18:1(d7) PC M+H         |  9.32700 | 2 | 0.02828427 |\n",
       "| Lipids | IS_15:0-18:1(d7) PE M-H         |  9.13950 | 2 | 0.07848885 |\n",
       "| Lipids | IS_15:0-18:1(d7) PE M-H         |  9.13950 | 2 | 0.07848885 |\n",
       "| Lipids | IS_15:0-18:1(d7) PG M-H         | 14.12550 | 2 | 1.79817254 |\n",
       "| Lipids | IS_15:0-18:1(d7) PG M-H         | 14.12550 | 2 | 1.79817254 |\n",
       "| Lipids | IS_15:0-18:1(d7) PI M-H         | 13.09925 | 4 | 1.21639806 |\n",
       "| Lipids | IS_15:0-18:1(d7) PI M-H         | 13.09925 | 4 | 1.21639806 |\n",
       "| Lipids | IS_15:0-18:1(d7) PI M-H         | 13.09925 | 4 | 1.21639806 |\n",
       "| Lipids | IS_15:0-18:1(d7) PI M-H         | 13.09925 | 4 | 1.21639806 |\n",
       "| Lipids | IS_15:0-18:1(d7)-15:0 TAG M+Na  | 16.44400 | 2 | 0.17960512 |\n",
       "| Lipids | IS_15:0-18:1(d7)-15:0 TAG M+Na  | 16.44400 | 2 | 0.17960512 |\n",
       "| Lipids | IS_18:1(d7) Lyso PC M+H         |  6.88100 | 1 |         NA |\n",
       "| Lipids | IS_18:1(d7) Lyso PE M-H         |  7.05300 | 2 | 0.18950462 |\n",
       "| ⋮ | ⋮ | ⋮ | ⋮ | ⋮ |\n",
       "| Lipids | TG(54:7) M+Na  | 13.49500 | 4 | 0.381150889 |\n",
       "| Lipids | TG(54:7) M+Na  | 13.49500 | 4 | 0.381150889 |\n",
       "| Lipids | TG(56:2) M+Na  | 26.33400 | 2 | 0.629325035 |\n",
       "| Lipids | TG(56:2) M+Na  | 26.33400 | 2 | 0.629325035 |\n",
       "| Lipids | TG(56:3) M+Na  | 22.54900 | 2 | 0.359210245 |\n",
       "| Lipids | TG(56:3) M+Na  | 22.54900 | 2 | 0.359210245 |\n",
       "| Lipids | TG(56:4) M+Na  | 19.62300 | 2 | 0.287085353 |\n",
       "| Lipids | TG(56:4) M+Na  | 19.62300 | 2 | 0.287085353 |\n",
       "| Lipids | TG(56:5) M+Na  | 17.94933 | 3 | 0.412039238 |\n",
       "| Lipids | TG(56:5) M+Na  | 17.94933 | 3 | 0.412039238 |\n",
       "| Lipids | TG(56:5) M+Na  | 17.94933 | 3 | 0.412039238 |\n",
       "| Lipids | TG(56:6) M+Na  | 16.12950 | 2 | 0.171826948 |\n",
       "| Lipids | TG(56:6) M+Na  | 16.12950 | 2 | 0.171826948 |\n",
       "| Lipids | TG(56:7) M+Na  | 15.36550 | 2 | 0.304763023 |\n",
       "| Lipids | TG(56:7) M+Na  | 15.36550 | 2 | 0.304763023 |\n",
       "| Lipids | TG(56:8) M+Na  | 13.87450 | 2 | 0.006363961 |\n",
       "| Lipids | TG(56:8) M+Na  | 13.87450 | 2 | 0.006363961 |\n",
       "| Lipids | TG(56:9) M+Na  | 12.90900 | 2 | 0.045254834 |\n",
       "| Lipids | TG(56:9) M+Na  | 12.90900 | 2 | 0.045254834 |\n",
       "| Lipids | TG(58:10) M+Na | 13.05650 | 2 | 0.102530483 |\n",
       "| Lipids | TG(58:10) M+Na | 13.05650 | 2 | 0.102530483 |\n",
       "| Lipids | TG(58:6) M+Na  | 18.22750 | 2 | 0.402343758 |\n",
       "| Lipids | TG(58:6) M+Na  | 18.22750 | 2 | 0.402343758 |\n",
       "| Lipids | TG(58:7) M+Na  | 16.47850 | 2 | 0.303348809 |\n",
       "| Lipids | TG(58:7) M+Na  | 16.47850 | 2 | 0.303348809 |\n",
       "| Lipids | TG(58:8) M+Na  | 15.24467 | 3 | 0.493001352 |\n",
       "| Lipids | TG(58:8) M+Na  | 15.24467 | 3 | 0.493001352 |\n",
       "| Lipids | TG(58:8) M+Na  | 15.24467 | 3 | 0.493001352 |\n",
       "| Lipids | TG(58:9) M+Na  | 14.14500 | 2 | 0.141421356 |\n",
       "| Lipids | TG(58:9) M+Na  | 14.14500 | 2 | 0.141421356 |\n",
       "\n"
      ],
      "text/plain": [
       "    analysis_type compound                        mean     n sd         \n",
       "1   Lipids        Cer(d18:1/22:0)                 10.76500 1         NA \n",
       "2   Lipids        Cholesterol[-H2O]                8.60750 2 0.05444722 \n",
       "3   Lipids        Cholesterol[-H2O]                8.60750 2 0.05444722 \n",
       "4   Lipids        FA(16:0) M-H                     7.71400 1         NA \n",
       "5   Lipids        FA(16:1) M-H                     7.37400 1         NA \n",
       "6   Lipids        FA(18:1) M-H                     7.79500 1         NA \n",
       "7   Lipids        FA(18:2) M-H                     7.48700 1         NA \n",
       "8   Lipids        FA(20:3) M-H                     7.62500 1         NA \n",
       "9   Lipids        FA(20:4) M-H                     7.43800 1         NA \n",
       "10  Lipids        FA(20:5) M-H                     7.16100 1         NA \n",
       "11  Lipids        FA(22:4) M-H                     7.76400 1         NA \n",
       "12  Lipids        FA(22:5) M-H                     7.55100 1         NA \n",
       "13  Lipids        FA(22:6) M-H                     7.34300 1         NA \n",
       "14  Lipids        IS_15:0-18:1(d7) DAG [-H2O] M+H 14.14700 2 1.84130606 \n",
       "15  Lipids        IS_15:0-18:1(d7) DAG [-H2O] M+H 14.14700 2 1.84130606 \n",
       "16  Lipids        IS_15:0-18:1(d7) PA M-H         12.67300 1         NA \n",
       "17  Lipids        IS_15:0-18:1(d7) PC M+H          9.32700 2 0.02828427 \n",
       "18  Lipids        IS_15:0-18:1(d7) PC M+H          9.32700 2 0.02828427 \n",
       "19  Lipids        IS_15:0-18:1(d7) PE M-H          9.13950 2 0.07848885 \n",
       "20  Lipids        IS_15:0-18:1(d7) PE M-H          9.13950 2 0.07848885 \n",
       "21  Lipids        IS_15:0-18:1(d7) PG M-H         14.12550 2 1.79817254 \n",
       "22  Lipids        IS_15:0-18:1(d7) PG M-H         14.12550 2 1.79817254 \n",
       "23  Lipids        IS_15:0-18:1(d7) PI M-H         13.09925 4 1.21639806 \n",
       "24  Lipids        IS_15:0-18:1(d7) PI M-H         13.09925 4 1.21639806 \n",
       "25  Lipids        IS_15:0-18:1(d7) PI M-H         13.09925 4 1.21639806 \n",
       "26  Lipids        IS_15:0-18:1(d7) PI M-H         13.09925 4 1.21639806 \n",
       "27  Lipids        IS_15:0-18:1(d7)-15:0 TAG M+Na  16.44400 2 0.17960512 \n",
       "28  Lipids        IS_15:0-18:1(d7)-15:0 TAG M+Na  16.44400 2 0.17960512 \n",
       "29  Lipids        IS_18:1(d7) Lyso PC M+H          6.88100 1         NA \n",
       "30  Lipids        IS_18:1(d7) Lyso PE M-H          7.05300 2 0.18950462 \n",
       "⋮   ⋮             ⋮                               ⋮        ⋮ ⋮          \n",
       "478 Lipids        TG(54:7) M+Na                   13.49500 4 0.381150889\n",
       "479 Lipids        TG(54:7) M+Na                   13.49500 4 0.381150889\n",
       "480 Lipids        TG(56:2) M+Na                   26.33400 2 0.629325035\n",
       "481 Lipids        TG(56:2) M+Na                   26.33400 2 0.629325035\n",
       "482 Lipids        TG(56:3) M+Na                   22.54900 2 0.359210245\n",
       "483 Lipids        TG(56:3) M+Na                   22.54900 2 0.359210245\n",
       "484 Lipids        TG(56:4) M+Na                   19.62300 2 0.287085353\n",
       "485 Lipids        TG(56:4) M+Na                   19.62300 2 0.287085353\n",
       "486 Lipids        TG(56:5) M+Na                   17.94933 3 0.412039238\n",
       "487 Lipids        TG(56:5) M+Na                   17.94933 3 0.412039238\n",
       "488 Lipids        TG(56:5) M+Na                   17.94933 3 0.412039238\n",
       "489 Lipids        TG(56:6) M+Na                   16.12950 2 0.171826948\n",
       "490 Lipids        TG(56:6) M+Na                   16.12950 2 0.171826948\n",
       "491 Lipids        TG(56:7) M+Na                   15.36550 2 0.304763023\n",
       "492 Lipids        TG(56:7) M+Na                   15.36550 2 0.304763023\n",
       "493 Lipids        TG(56:8) M+Na                   13.87450 2 0.006363961\n",
       "494 Lipids        TG(56:8) M+Na                   13.87450 2 0.006363961\n",
       "495 Lipids        TG(56:9) M+Na                   12.90900 2 0.045254834\n",
       "496 Lipids        TG(56:9) M+Na                   12.90900 2 0.045254834\n",
       "497 Lipids        TG(58:10) M+Na                  13.05650 2 0.102530483\n",
       "498 Lipids        TG(58:10) M+Na                  13.05650 2 0.102530483\n",
       "499 Lipids        TG(58:6) M+Na                   18.22750 2 0.402343758\n",
       "500 Lipids        TG(58:6) M+Na                   18.22750 2 0.402343758\n",
       "501 Lipids        TG(58:7) M+Na                   16.47850 2 0.303348809\n",
       "502 Lipids        TG(58:7) M+Na                   16.47850 2 0.303348809\n",
       "503 Lipids        TG(58:8) M+Na                   15.24467 3 0.493001352\n",
       "504 Lipids        TG(58:8) M+Na                   15.24467 3 0.493001352\n",
       "505 Lipids        TG(58:8) M+Na                   15.24467 3 0.493001352\n",
       "506 Lipids        TG(58:9) M+Na                   14.14500 2 0.141421356\n",
       "507 Lipids        TG(58:9) M+Na                   14.14500 2 0.141421356"
      ]
     },
     "metadata": {},
     "output_type": "display_data"
    }
   ],
   "source": [
    "data_mean"
   ]
  },
  {
   "cell_type": "code",
   "execution_count": 19,
   "id": "4349cf4d",
   "metadata": {},
   "outputs": [
    {
     "data": {
      "text/html": [
       "<table class=\"dataframe\">\n",
       "<caption>A grouped_df: 274 × 5</caption>\n",
       "<thead>\n",
       "\t<tr><th scope=col>analysis_type</th><th scope=col>compound</th><th scope=col>mean</th><th scope=col>n</th><th scope=col>sd</th></tr>\n",
       "\t<tr><th scope=col>&lt;chr&gt;</th><th scope=col>&lt;fct&gt;</th><th scope=col>&lt;dbl&gt;</th><th scope=col>&lt;int&gt;</th><th scope=col>&lt;dbl&gt;</th></tr>\n",
       "</thead>\n",
       "<tbody>\n",
       "\t<tr><td>Lipids</td><td>Cer(d18:1/22:0)                </td><td>10.76500</td><td>1</td><td>         NA</td></tr>\n",
       "\t<tr><td>Lipids</td><td>Cholesterol[-H2O]              </td><td> 8.60750</td><td>2</td><td>0.054447222</td></tr>\n",
       "\t<tr><td>Lipids</td><td>FA(16:0) M-H                   </td><td> 7.71400</td><td>1</td><td>         NA</td></tr>\n",
       "\t<tr><td>Lipids</td><td>FA(16:1) M-H                   </td><td> 7.37400</td><td>1</td><td>         NA</td></tr>\n",
       "\t<tr><td>Lipids</td><td>FA(18:1) M-H                   </td><td> 7.79500</td><td>1</td><td>         NA</td></tr>\n",
       "\t<tr><td>Lipids</td><td>FA(18:2) M-H                   </td><td> 7.48700</td><td>1</td><td>         NA</td></tr>\n",
       "\t<tr><td>Lipids</td><td>FA(20:3) M-H                   </td><td> 7.62500</td><td>1</td><td>         NA</td></tr>\n",
       "\t<tr><td>Lipids</td><td>FA(20:4) M-H                   </td><td> 7.43800</td><td>1</td><td>         NA</td></tr>\n",
       "\t<tr><td>Lipids</td><td>FA(20:5) M-H                   </td><td> 7.16100</td><td>1</td><td>         NA</td></tr>\n",
       "\t<tr><td>Lipids</td><td>FA(22:4) M-H                   </td><td> 7.76400</td><td>1</td><td>         NA</td></tr>\n",
       "\t<tr><td>Lipids</td><td>FA(22:5) M-H                   </td><td> 7.55100</td><td>1</td><td>         NA</td></tr>\n",
       "\t<tr><td>Lipids</td><td>FA(22:6) M-H                   </td><td> 7.34300</td><td>1</td><td>         NA</td></tr>\n",
       "\t<tr><td>Lipids</td><td>IS_15:0-18:1(d7) DAG [-H2O] M+H</td><td>14.14700</td><td>2</td><td>1.841306058</td></tr>\n",
       "\t<tr><td>Lipids</td><td>IS_15:0-18:1(d7) PA M-H        </td><td>12.67300</td><td>1</td><td>         NA</td></tr>\n",
       "\t<tr><td>Lipids</td><td>IS_15:0-18:1(d7) PC M+H        </td><td> 9.32700</td><td>2</td><td>0.028284271</td></tr>\n",
       "\t<tr><td>Lipids</td><td>IS_15:0-18:1(d7) PE M-H        </td><td> 9.13950</td><td>2</td><td>0.078488853</td></tr>\n",
       "\t<tr><td>Lipids</td><td>IS_15:0-18:1(d7) PG M-H        </td><td>14.12550</td><td>2</td><td>1.798172545</td></tr>\n",
       "\t<tr><td>Lipids</td><td>IS_15:0-18:1(d7) PI M-H        </td><td>13.09925</td><td>4</td><td>1.216398064</td></tr>\n",
       "\t<tr><td>Lipids</td><td>IS_15:0-18:1(d7)-15:0 TAG M+Na </td><td>16.44400</td><td>2</td><td>0.179605122</td></tr>\n",
       "\t<tr><td>Lipids</td><td>IS_18:1(d7) Lyso PC M+H        </td><td> 6.88100</td><td>1</td><td>         NA</td></tr>\n",
       "\t<tr><td>Lipids</td><td>IS_18:1(d7) Lyso PE M-H        </td><td> 7.05300</td><td>2</td><td>0.189504617</td></tr>\n",
       "\t<tr><td>Lipids</td><td>IS_18:1(d7) MAG [-H2O] M+H     </td><td> 6.91600</td><td>1</td><td>         NA</td></tr>\n",
       "\t<tr><td>Lipids</td><td>IS_Cholesterol_d7 [-H2O] M+H   </td><td> 8.55400</td><td>2</td><td>0.007071068</td></tr>\n",
       "\t<tr><td>Lipids</td><td>IS_d18:1-18:1(d9) SM M+COOH-   </td><td> 9.03600</td><td>1</td><td>         NA</td></tr>\n",
       "\t<tr><td>Lipids</td><td>IS_d18:1-18:1(d9) SM M+H       </td><td> 9.03500</td><td>1</td><td>         NA</td></tr>\n",
       "\t<tr><td>Lipids</td><td>LPA(C14:0) M-H                 </td><td> 7.48600</td><td>1</td><td>         NA</td></tr>\n",
       "\t<tr><td>Lipids</td><td>LPA(C16:0) M-H                 </td><td> 8.18900</td><td>1</td><td>         NA</td></tr>\n",
       "\t<tr><td>Lipids</td><td>LPA(C18:0) M-H                 </td><td>11.45450</td><td>2</td><td>0.532451406</td></tr>\n",
       "\t<tr><td>Lipids</td><td>LPC(C14:0)                     </td><td> 6.24800</td><td>2</td><td>0.001414214</td></tr>\n",
       "\t<tr><td>Lipids</td><td>LPC(C16:0)                     </td><td> 6.76800</td><td>2</td><td>0.001414214</td></tr>\n",
       "\t<tr><td>⋮</td><td>⋮</td><td>⋮</td><td>⋮</td><td>⋮</td></tr>\n",
       "\t<tr><td>Lipids</td><td>TG(50:2) M+Na </td><td>16.63550</td><td>2</td><td>0.153442172</td></tr>\n",
       "\t<tr><td>Lipids</td><td>TG(50:3) M+Na </td><td>15.16350</td><td>2</td><td>0.282135606</td></tr>\n",
       "\t<tr><td>Lipids</td><td>TG(50:4) M+Na </td><td>13.80950</td><td>2</td><td>0.119501046</td></tr>\n",
       "\t<tr><td>Lipids</td><td>TG(52:0) M+Na </td><td>21.54900</td><td>1</td><td>         NA</td></tr>\n",
       "\t<tr><td>Lipids</td><td>TG(52:1) M+Na </td><td>21.77600</td><td>2</td><td>0.308298557</td></tr>\n",
       "\t<tr><td>Lipids</td><td>TG(52:2) M+Na </td><td>19.23700</td><td>2</td><td>0.414364574</td></tr>\n",
       "\t<tr><td>Lipids</td><td>TG(52:3) M+Na </td><td>17.03750</td><td>2</td><td>0.297691955</td></tr>\n",
       "\t<tr><td>Lipids</td><td>TG(52:4) M+Na </td><td>15.26000</td><td>2</td><td>0.172534055</td></tr>\n",
       "\t<tr><td>Lipids</td><td>TG(52:5) M+Na </td><td>13.95750</td><td>2</td><td>0.037476659</td></tr>\n",
       "\t<tr><td>Lipids</td><td>TG(54:0) M+Na </td><td>25.49900</td><td>1</td><td>         NA</td></tr>\n",
       "\t<tr><td>Lipids</td><td>TG(54:1) M+Na </td><td>24.52267</td><td>3</td><td>2.308750600</td></tr>\n",
       "\t<tr><td>Lipids</td><td>TG(54:2) M+Na </td><td>21.16700</td><td>3</td><td>1.696444812</td></tr>\n",
       "\t<tr><td>Lipids</td><td>TG(54:3) M+Na </td><td>18.65833</td><td>3</td><td>1.351506320</td></tr>\n",
       "\t<tr><td>Lipids</td><td>TG(54:4) M+Na </td><td>17.51500</td><td>3</td><td>0.501650277</td></tr>\n",
       "\t<tr><td>Lipids</td><td>TG(54:5) M+Na </td><td>15.89300</td><td>3</td><td>0.449213758</td></tr>\n",
       "\t<tr><td>Lipids</td><td>TG(54:6) M+Na </td><td>14.44867</td><td>3</td><td>0.382654326</td></tr>\n",
       "\t<tr><td>Lipids</td><td>TG(54:7) M+Na </td><td>13.49500</td><td>4</td><td>0.381150889</td></tr>\n",
       "\t<tr><td>Lipids</td><td>TG(56:2) M+Na </td><td>26.33400</td><td>2</td><td>0.629325035</td></tr>\n",
       "\t<tr><td>Lipids</td><td>TG(56:3) M+Na </td><td>22.54900</td><td>2</td><td>0.359210245</td></tr>\n",
       "\t<tr><td>Lipids</td><td>TG(56:4) M+Na </td><td>19.62300</td><td>2</td><td>0.287085353</td></tr>\n",
       "\t<tr><td>Lipids</td><td>TG(56:5) M+Na </td><td>17.94933</td><td>3</td><td>0.412039238</td></tr>\n",
       "\t<tr><td>Lipids</td><td>TG(56:6) M+Na </td><td>16.12950</td><td>2</td><td>0.171826948</td></tr>\n",
       "\t<tr><td>Lipids</td><td>TG(56:7) M+Na </td><td>15.36550</td><td>2</td><td>0.304763023</td></tr>\n",
       "\t<tr><td>Lipids</td><td>TG(56:8) M+Na </td><td>13.87450</td><td>2</td><td>0.006363961</td></tr>\n",
       "\t<tr><td>Lipids</td><td>TG(56:9) M+Na </td><td>12.90900</td><td>2</td><td>0.045254834</td></tr>\n",
       "\t<tr><td>Lipids</td><td>TG(58:10) M+Na</td><td>13.05650</td><td>2</td><td>0.102530483</td></tr>\n",
       "\t<tr><td>Lipids</td><td>TG(58:6) M+Na </td><td>18.22750</td><td>2</td><td>0.402343758</td></tr>\n",
       "\t<tr><td>Lipids</td><td>TG(58:7) M+Na </td><td>16.47850</td><td>2</td><td>0.303348809</td></tr>\n",
       "\t<tr><td>Lipids</td><td>TG(58:8) M+Na </td><td>15.24467</td><td>3</td><td>0.493001352</td></tr>\n",
       "\t<tr><td>Lipids</td><td>TG(58:9) M+Na </td><td>14.14500</td><td>2</td><td>0.141421356</td></tr>\n",
       "</tbody>\n",
       "</table>\n"
      ],
      "text/latex": [
       "A grouped\\_df: 274 × 5\n",
       "\\begin{tabular}{lllll}\n",
       " analysis\\_type & compound & mean & n & sd\\\\\n",
       " <chr> & <fct> & <dbl> & <int> & <dbl>\\\\\n",
       "\\hline\n",
       "\t Lipids & Cer(d18:1/22:0)                 & 10.76500 & 1 &          NA\\\\\n",
       "\t Lipids & Cholesterol{[}-H2O{]}               &  8.60750 & 2 & 0.054447222\\\\\n",
       "\t Lipids & FA(16:0) M-H                    &  7.71400 & 1 &          NA\\\\\n",
       "\t Lipids & FA(16:1) M-H                    &  7.37400 & 1 &          NA\\\\\n",
       "\t Lipids & FA(18:1) M-H                    &  7.79500 & 1 &          NA\\\\\n",
       "\t Lipids & FA(18:2) M-H                    &  7.48700 & 1 &          NA\\\\\n",
       "\t Lipids & FA(20:3) M-H                    &  7.62500 & 1 &          NA\\\\\n",
       "\t Lipids & FA(20:4) M-H                    &  7.43800 & 1 &          NA\\\\\n",
       "\t Lipids & FA(20:5) M-H                    &  7.16100 & 1 &          NA\\\\\n",
       "\t Lipids & FA(22:4) M-H                    &  7.76400 & 1 &          NA\\\\\n",
       "\t Lipids & FA(22:5) M-H                    &  7.55100 & 1 &          NA\\\\\n",
       "\t Lipids & FA(22:6) M-H                    &  7.34300 & 1 &          NA\\\\\n",
       "\t Lipids & IS\\_15:0-18:1(d7) DAG {[}-H2O{]} M+H & 14.14700 & 2 & 1.841306058\\\\\n",
       "\t Lipids & IS\\_15:0-18:1(d7) PA M-H         & 12.67300 & 1 &          NA\\\\\n",
       "\t Lipids & IS\\_15:0-18:1(d7) PC M+H         &  9.32700 & 2 & 0.028284271\\\\\n",
       "\t Lipids & IS\\_15:0-18:1(d7) PE M-H         &  9.13950 & 2 & 0.078488853\\\\\n",
       "\t Lipids & IS\\_15:0-18:1(d7) PG M-H         & 14.12550 & 2 & 1.798172545\\\\\n",
       "\t Lipids & IS\\_15:0-18:1(d7) PI M-H         & 13.09925 & 4 & 1.216398064\\\\\n",
       "\t Lipids & IS\\_15:0-18:1(d7)-15:0 TAG M+Na  & 16.44400 & 2 & 0.179605122\\\\\n",
       "\t Lipids & IS\\_18:1(d7) Lyso PC M+H         &  6.88100 & 1 &          NA\\\\\n",
       "\t Lipids & IS\\_18:1(d7) Lyso PE M-H         &  7.05300 & 2 & 0.189504617\\\\\n",
       "\t Lipids & IS\\_18:1(d7) MAG {[}-H2O{]} M+H      &  6.91600 & 1 &          NA\\\\\n",
       "\t Lipids & IS\\_Cholesterol\\_d7 {[}-H2O{]} M+H    &  8.55400 & 2 & 0.007071068\\\\\n",
       "\t Lipids & IS\\_d18:1-18:1(d9) SM M+COOH-    &  9.03600 & 1 &          NA\\\\\n",
       "\t Lipids & IS\\_d18:1-18:1(d9) SM M+H        &  9.03500 & 1 &          NA\\\\\n",
       "\t Lipids & LPA(C14:0) M-H                  &  7.48600 & 1 &          NA\\\\\n",
       "\t Lipids & LPA(C16:0) M-H                  &  8.18900 & 1 &          NA\\\\\n",
       "\t Lipids & LPA(C18:0) M-H                  & 11.45450 & 2 & 0.532451406\\\\\n",
       "\t Lipids & LPC(C14:0)                      &  6.24800 & 2 & 0.001414214\\\\\n",
       "\t Lipids & LPC(C16:0)                      &  6.76800 & 2 & 0.001414214\\\\\n",
       "\t ⋮ & ⋮ & ⋮ & ⋮ & ⋮\\\\\n",
       "\t Lipids & TG(50:2) M+Na  & 16.63550 & 2 & 0.153442172\\\\\n",
       "\t Lipids & TG(50:3) M+Na  & 15.16350 & 2 & 0.282135606\\\\\n",
       "\t Lipids & TG(50:4) M+Na  & 13.80950 & 2 & 0.119501046\\\\\n",
       "\t Lipids & TG(52:0) M+Na  & 21.54900 & 1 &          NA\\\\\n",
       "\t Lipids & TG(52:1) M+Na  & 21.77600 & 2 & 0.308298557\\\\\n",
       "\t Lipids & TG(52:2) M+Na  & 19.23700 & 2 & 0.414364574\\\\\n",
       "\t Lipids & TG(52:3) M+Na  & 17.03750 & 2 & 0.297691955\\\\\n",
       "\t Lipids & TG(52:4) M+Na  & 15.26000 & 2 & 0.172534055\\\\\n",
       "\t Lipids & TG(52:5) M+Na  & 13.95750 & 2 & 0.037476659\\\\\n",
       "\t Lipids & TG(54:0) M+Na  & 25.49900 & 1 &          NA\\\\\n",
       "\t Lipids & TG(54:1) M+Na  & 24.52267 & 3 & 2.308750600\\\\\n",
       "\t Lipids & TG(54:2) M+Na  & 21.16700 & 3 & 1.696444812\\\\\n",
       "\t Lipids & TG(54:3) M+Na  & 18.65833 & 3 & 1.351506320\\\\\n",
       "\t Lipids & TG(54:4) M+Na  & 17.51500 & 3 & 0.501650277\\\\\n",
       "\t Lipids & TG(54:5) M+Na  & 15.89300 & 3 & 0.449213758\\\\\n",
       "\t Lipids & TG(54:6) M+Na  & 14.44867 & 3 & 0.382654326\\\\\n",
       "\t Lipids & TG(54:7) M+Na  & 13.49500 & 4 & 0.381150889\\\\\n",
       "\t Lipids & TG(56:2) M+Na  & 26.33400 & 2 & 0.629325035\\\\\n",
       "\t Lipids & TG(56:3) M+Na  & 22.54900 & 2 & 0.359210245\\\\\n",
       "\t Lipids & TG(56:4) M+Na  & 19.62300 & 2 & 0.287085353\\\\\n",
       "\t Lipids & TG(56:5) M+Na  & 17.94933 & 3 & 0.412039238\\\\\n",
       "\t Lipids & TG(56:6) M+Na  & 16.12950 & 2 & 0.171826948\\\\\n",
       "\t Lipids & TG(56:7) M+Na  & 15.36550 & 2 & 0.304763023\\\\\n",
       "\t Lipids & TG(56:8) M+Na  & 13.87450 & 2 & 0.006363961\\\\\n",
       "\t Lipids & TG(56:9) M+Na  & 12.90900 & 2 & 0.045254834\\\\\n",
       "\t Lipids & TG(58:10) M+Na & 13.05650 & 2 & 0.102530483\\\\\n",
       "\t Lipids & TG(58:6) M+Na  & 18.22750 & 2 & 0.402343758\\\\\n",
       "\t Lipids & TG(58:7) M+Na  & 16.47850 & 2 & 0.303348809\\\\\n",
       "\t Lipids & TG(58:8) M+Na  & 15.24467 & 3 & 0.493001352\\\\\n",
       "\t Lipids & TG(58:9) M+Na  & 14.14500 & 2 & 0.141421356\\\\\n",
       "\\end{tabular}\n"
      ],
      "text/markdown": [
       "\n",
       "A grouped_df: 274 × 5\n",
       "\n",
       "| analysis_type &lt;chr&gt; | compound &lt;fct&gt; | mean &lt;dbl&gt; | n &lt;int&gt; | sd &lt;dbl&gt; |\n",
       "|---|---|---|---|---|\n",
       "| Lipids | Cer(d18:1/22:0)                 | 10.76500 | 1 |          NA |\n",
       "| Lipids | Cholesterol[-H2O]               |  8.60750 | 2 | 0.054447222 |\n",
       "| Lipids | FA(16:0) M-H                    |  7.71400 | 1 |          NA |\n",
       "| Lipids | FA(16:1) M-H                    |  7.37400 | 1 |          NA |\n",
       "| Lipids | FA(18:1) M-H                    |  7.79500 | 1 |          NA |\n",
       "| Lipids | FA(18:2) M-H                    |  7.48700 | 1 |          NA |\n",
       "| Lipids | FA(20:3) M-H                    |  7.62500 | 1 |          NA |\n",
       "| Lipids | FA(20:4) M-H                    |  7.43800 | 1 |          NA |\n",
       "| Lipids | FA(20:5) M-H                    |  7.16100 | 1 |          NA |\n",
       "| Lipids | FA(22:4) M-H                    |  7.76400 | 1 |          NA |\n",
       "| Lipids | FA(22:5) M-H                    |  7.55100 | 1 |          NA |\n",
       "| Lipids | FA(22:6) M-H                    |  7.34300 | 1 |          NA |\n",
       "| Lipids | IS_15:0-18:1(d7) DAG [-H2O] M+H | 14.14700 | 2 | 1.841306058 |\n",
       "| Lipids | IS_15:0-18:1(d7) PA M-H         | 12.67300 | 1 |          NA |\n",
       "| Lipids | IS_15:0-18:1(d7) PC M+H         |  9.32700 | 2 | 0.028284271 |\n",
       "| Lipids | IS_15:0-18:1(d7) PE M-H         |  9.13950 | 2 | 0.078488853 |\n",
       "| Lipids | IS_15:0-18:1(d7) PG M-H         | 14.12550 | 2 | 1.798172545 |\n",
       "| Lipids | IS_15:0-18:1(d7) PI M-H         | 13.09925 | 4 | 1.216398064 |\n",
       "| Lipids | IS_15:0-18:1(d7)-15:0 TAG M+Na  | 16.44400 | 2 | 0.179605122 |\n",
       "| Lipids | IS_18:1(d7) Lyso PC M+H         |  6.88100 | 1 |          NA |\n",
       "| Lipids | IS_18:1(d7) Lyso PE M-H         |  7.05300 | 2 | 0.189504617 |\n",
       "| Lipids | IS_18:1(d7) MAG [-H2O] M+H      |  6.91600 | 1 |          NA |\n",
       "| Lipids | IS_Cholesterol_d7 [-H2O] M+H    |  8.55400 | 2 | 0.007071068 |\n",
       "| Lipids | IS_d18:1-18:1(d9) SM M+COOH-    |  9.03600 | 1 |          NA |\n",
       "| Lipids | IS_d18:1-18:1(d9) SM M+H        |  9.03500 | 1 |          NA |\n",
       "| Lipids | LPA(C14:0) M-H                  |  7.48600 | 1 |          NA |\n",
       "| Lipids | LPA(C16:0) M-H                  |  8.18900 | 1 |          NA |\n",
       "| Lipids | LPA(C18:0) M-H                  | 11.45450 | 2 | 0.532451406 |\n",
       "| Lipids | LPC(C14:0)                      |  6.24800 | 2 | 0.001414214 |\n",
       "| Lipids | LPC(C16:0)                      |  6.76800 | 2 | 0.001414214 |\n",
       "| ⋮ | ⋮ | ⋮ | ⋮ | ⋮ |\n",
       "| Lipids | TG(50:2) M+Na  | 16.63550 | 2 | 0.153442172 |\n",
       "| Lipids | TG(50:3) M+Na  | 15.16350 | 2 | 0.282135606 |\n",
       "| Lipids | TG(50:4) M+Na  | 13.80950 | 2 | 0.119501046 |\n",
       "| Lipids | TG(52:0) M+Na  | 21.54900 | 1 |          NA |\n",
       "| Lipids | TG(52:1) M+Na  | 21.77600 | 2 | 0.308298557 |\n",
       "| Lipids | TG(52:2) M+Na  | 19.23700 | 2 | 0.414364574 |\n",
       "| Lipids | TG(52:3) M+Na  | 17.03750 | 2 | 0.297691955 |\n",
       "| Lipids | TG(52:4) M+Na  | 15.26000 | 2 | 0.172534055 |\n",
       "| Lipids | TG(52:5) M+Na  | 13.95750 | 2 | 0.037476659 |\n",
       "| Lipids | TG(54:0) M+Na  | 25.49900 | 1 |          NA |\n",
       "| Lipids | TG(54:1) M+Na  | 24.52267 | 3 | 2.308750600 |\n",
       "| Lipids | TG(54:2) M+Na  | 21.16700 | 3 | 1.696444812 |\n",
       "| Lipids | TG(54:3) M+Na  | 18.65833 | 3 | 1.351506320 |\n",
       "| Lipids | TG(54:4) M+Na  | 17.51500 | 3 | 0.501650277 |\n",
       "| Lipids | TG(54:5) M+Na  | 15.89300 | 3 | 0.449213758 |\n",
       "| Lipids | TG(54:6) M+Na  | 14.44867 | 3 | 0.382654326 |\n",
       "| Lipids | TG(54:7) M+Na  | 13.49500 | 4 | 0.381150889 |\n",
       "| Lipids | TG(56:2) M+Na  | 26.33400 | 2 | 0.629325035 |\n",
       "| Lipids | TG(56:3) M+Na  | 22.54900 | 2 | 0.359210245 |\n",
       "| Lipids | TG(56:4) M+Na  | 19.62300 | 2 | 0.287085353 |\n",
       "| Lipids | TG(56:5) M+Na  | 17.94933 | 3 | 0.412039238 |\n",
       "| Lipids | TG(56:6) M+Na  | 16.12950 | 2 | 0.171826948 |\n",
       "| Lipids | TG(56:7) M+Na  | 15.36550 | 2 | 0.304763023 |\n",
       "| Lipids | TG(56:8) M+Na  | 13.87450 | 2 | 0.006363961 |\n",
       "| Lipids | TG(56:9) M+Na  | 12.90900 | 2 | 0.045254834 |\n",
       "| Lipids | TG(58:10) M+Na | 13.05650 | 2 | 0.102530483 |\n",
       "| Lipids | TG(58:6) M+Na  | 18.22750 | 2 | 0.402343758 |\n",
       "| Lipids | TG(58:7) M+Na  | 16.47850 | 2 | 0.303348809 |\n",
       "| Lipids | TG(58:8) M+Na  | 15.24467 | 3 | 0.493001352 |\n",
       "| Lipids | TG(58:9) M+Na  | 14.14500 | 2 | 0.141421356 |\n",
       "\n"
      ],
      "text/plain": [
       "    analysis_type compound                        mean     n sd         \n",
       "1   Lipids        Cer(d18:1/22:0)                 10.76500 1          NA\n",
       "2   Lipids        Cholesterol[-H2O]                8.60750 2 0.054447222\n",
       "3   Lipids        FA(16:0) M-H                     7.71400 1          NA\n",
       "4   Lipids        FA(16:1) M-H                     7.37400 1          NA\n",
       "5   Lipids        FA(18:1) M-H                     7.79500 1          NA\n",
       "6   Lipids        FA(18:2) M-H                     7.48700 1          NA\n",
       "7   Lipids        FA(20:3) M-H                     7.62500 1          NA\n",
       "8   Lipids        FA(20:4) M-H                     7.43800 1          NA\n",
       "9   Lipids        FA(20:5) M-H                     7.16100 1          NA\n",
       "10  Lipids        FA(22:4) M-H                     7.76400 1          NA\n",
       "11  Lipids        FA(22:5) M-H                     7.55100 1          NA\n",
       "12  Lipids        FA(22:6) M-H                     7.34300 1          NA\n",
       "13  Lipids        IS_15:0-18:1(d7) DAG [-H2O] M+H 14.14700 2 1.841306058\n",
       "14  Lipids        IS_15:0-18:1(d7) PA M-H         12.67300 1          NA\n",
       "15  Lipids        IS_15:0-18:1(d7) PC M+H          9.32700 2 0.028284271\n",
       "16  Lipids        IS_15:0-18:1(d7) PE M-H          9.13950 2 0.078488853\n",
       "17  Lipids        IS_15:0-18:1(d7) PG M-H         14.12550 2 1.798172545\n",
       "18  Lipids        IS_15:0-18:1(d7) PI M-H         13.09925 4 1.216398064\n",
       "19  Lipids        IS_15:0-18:1(d7)-15:0 TAG M+Na  16.44400 2 0.179605122\n",
       "20  Lipids        IS_18:1(d7) Lyso PC M+H          6.88100 1          NA\n",
       "21  Lipids        IS_18:1(d7) Lyso PE M-H          7.05300 2 0.189504617\n",
       "22  Lipids        IS_18:1(d7) MAG [-H2O] M+H       6.91600 1          NA\n",
       "23  Lipids        IS_Cholesterol_d7 [-H2O] M+H     8.55400 2 0.007071068\n",
       "24  Lipids        IS_d18:1-18:1(d9) SM M+COOH-     9.03600 1          NA\n",
       "25  Lipids        IS_d18:1-18:1(d9) SM M+H         9.03500 1          NA\n",
       "26  Lipids        LPA(C14:0) M-H                   7.48600 1          NA\n",
       "27  Lipids        LPA(C16:0) M-H                   8.18900 1          NA\n",
       "28  Lipids        LPA(C18:0) M-H                  11.45450 2 0.532451406\n",
       "29  Lipids        LPC(C14:0)                       6.24800 2 0.001414214\n",
       "30  Lipids        LPC(C16:0)                       6.76800 2 0.001414214\n",
       "⋮   ⋮             ⋮                               ⋮        ⋮ ⋮          \n",
       "245 Lipids        TG(50:2) M+Na                   16.63550 2 0.153442172\n",
       "246 Lipids        TG(50:3) M+Na                   15.16350 2 0.282135606\n",
       "247 Lipids        TG(50:4) M+Na                   13.80950 2 0.119501046\n",
       "248 Lipids        TG(52:0) M+Na                   21.54900 1          NA\n",
       "249 Lipids        TG(52:1) M+Na                   21.77600 2 0.308298557\n",
       "250 Lipids        TG(52:2) M+Na                   19.23700 2 0.414364574\n",
       "251 Lipids        TG(52:3) M+Na                   17.03750 2 0.297691955\n",
       "252 Lipids        TG(52:4) M+Na                   15.26000 2 0.172534055\n",
       "253 Lipids        TG(52:5) M+Na                   13.95750 2 0.037476659\n",
       "254 Lipids        TG(54:0) M+Na                   25.49900 1          NA\n",
       "255 Lipids        TG(54:1) M+Na                   24.52267 3 2.308750600\n",
       "256 Lipids        TG(54:2) M+Na                   21.16700 3 1.696444812\n",
       "257 Lipids        TG(54:3) M+Na                   18.65833 3 1.351506320\n",
       "258 Lipids        TG(54:4) M+Na                   17.51500 3 0.501650277\n",
       "259 Lipids        TG(54:5) M+Na                   15.89300 3 0.449213758\n",
       "260 Lipids        TG(54:6) M+Na                   14.44867 3 0.382654326\n",
       "261 Lipids        TG(54:7) M+Na                   13.49500 4 0.381150889\n",
       "262 Lipids        TG(56:2) M+Na                   26.33400 2 0.629325035\n",
       "263 Lipids        TG(56:3) M+Na                   22.54900 2 0.359210245\n",
       "264 Lipids        TG(56:4) M+Na                   19.62300 2 0.287085353\n",
       "265 Lipids        TG(56:5) M+Na                   17.94933 3 0.412039238\n",
       "266 Lipids        TG(56:6) M+Na                   16.12950 2 0.171826948\n",
       "267 Lipids        TG(56:7) M+Na                   15.36550 2 0.304763023\n",
       "268 Lipids        TG(56:8) M+Na                   13.87450 2 0.006363961\n",
       "269 Lipids        TG(56:9) M+Na                   12.90900 2 0.045254834\n",
       "270 Lipids        TG(58:10) M+Na                  13.05650 2 0.102530483\n",
       "271 Lipids        TG(58:6) M+Na                   18.22750 2 0.402343758\n",
       "272 Lipids        TG(58:7) M+Na                   16.47850 2 0.303348809\n",
       "273 Lipids        TG(58:8) M+Na                   15.24467 3 0.493001352\n",
       "274 Lipids        TG(58:9) M+Na                   14.14500 2 0.141421356"
      ]
     },
     "metadata": {},
     "output_type": "display_data"
    }
   ],
   "source": [
    "data_mean %>%\n",
    "    distinct(compound, .keep_all=TRUE)"
   ]
  },
  {
   "cell_type": "markdown",
   "id": "ef9e1478",
   "metadata": {},
   "source": [
    "# Export"
   ]
  },
  {
   "cell_type": "code",
   "execution_count": 15,
   "id": "44378bab",
   "metadata": {},
   "outputs": [],
   "source": [
    "setwd('../')"
   ]
  },
  {
   "cell_type": "code",
   "execution_count": 16,
   "id": "d56e270e",
   "metadata": {},
   "outputs": [],
   "source": [
    "write.csv(data, 'RT_tidy.csv', row.names=FALSE)\n",
    "write.csv(data_mean, 'RT_mean.csv', row.names=FALSE)\n",
    "write.csv(data_outliers, 'RT_outliers.csv', row.names=FALSE)"
   ]
  }
 ],
 "metadata": {
  "kernelspec": {
   "display_name": "R",
   "language": "R",
   "name": "ir"
  },
  "language_info": {
   "codemirror_mode": "r",
   "file_extension": ".r",
   "mimetype": "text/x-r-source",
   "name": "R",
   "pygments_lexer": "r",
   "version": "3.6.3"
  },
  "toc": {
   "base_numbering": 1,
   "nav_menu": {},
   "number_sections": true,
   "sideBar": true,
   "skip_h1_title": false,
   "title_cell": "Table of Contents",
   "title_sidebar": "Contents",
   "toc_cell": false,
   "toc_position": {},
   "toc_section_display": true,
   "toc_window_display": false
  }
 },
 "nbformat": 4,
 "nbformat_minor": 5
}
