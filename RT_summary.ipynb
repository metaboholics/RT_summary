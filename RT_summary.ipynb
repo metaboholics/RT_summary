{
 "cells": [
  {
   "cell_type": "markdown",
   "id": "c8837a9c",
   "metadata": {},
   "source": [
    "# Preparations"
   ]
  },
  {
   "cell_type": "code",
   "execution_count": 39,
   "id": "e176fdd1",
   "metadata": {},
   "outputs": [],
   "source": [
    "library(tidyverse)"
   ]
  },
  {
   "cell_type": "code",
   "execution_count": 40,
   "id": "4d5d6da6",
   "metadata": {},
   "outputs": [],
   "source": [
    "setwd('data')"
   ]
  },
  {
   "cell_type": "markdown",
   "id": "af57852b",
   "metadata": {},
   "source": [
    "# Extract sample information from file name"
   ]
  },
  {
   "cell_type": "markdown",
   "id": "0aa2f1ba",
   "metadata": {},
   "source": [
    "Get all file names in directory."
   ]
  },
  {
   "cell_type": "code",
   "execution_count": 41,
   "id": "48245835",
   "metadata": {},
   "outputs": [],
   "source": [
    "file_list <- list.files()"
   ]
  },
  {
   "cell_type": "markdown",
   "id": "603a052a",
   "metadata": {},
   "source": [
    "Get information from file names."
   ]
  },
  {
   "cell_type": "code",
   "execution_count": 42,
   "id": "56bccd91",
   "metadata": {},
   "outputs": [
    {
     "name": "stderr",
     "output_type": "stream",
     "text": [
      "Warning message:\n",
      "“Expected 6 pieces. Missing pieces filled with `NA` in 2 rows [5, 6].”\n"
     ]
    }
   ],
   "source": [
    "df_info <- as.data.frame(file_list) %>%\n",
    "    mutate(sample = file_list) %>%\n",
    "    separate(file_list,c('date_measurement','exp_number','analysis_type','mode',NA,NA), sep='_') %>%\n",
    "    mutate(date_measurement = strptime(date_measurement, \"%Y%m%d\"))"
   ]
  },
  {
   "cell_type": "markdown",
   "id": "39e970d6",
   "metadata": {},
   "source": [
    "# Combine files into single dataframe"
   ]
  },
  {
   "cell_type": "code",
   "execution_count": 43,
   "id": "ad883f7f",
   "metadata": {},
   "outputs": [],
   "source": [
    "i <- 1\n",
    "df_RT <- setNames(data.frame(matrix(ncol = 3, nrow = 0)), c(\"compound\", \"compoundId\", \"medRt\"))\n",
    "\n",
    "for (files in file_list){\n",
    "    df <- read.csv(files) %>%\n",
    "    select(10,11,6)# %>%\n",
    "    df$sample <- file_list[i]\n",
    "    df_RT <- rbind(df_RT, df)\n",
    "    i <- i+1\n",
    "}"
   ]
  },
  {
   "cell_type": "markdown",
   "id": "4c3dcb3f",
   "metadata": {},
   "source": [
    "# Combine data and data info"
   ]
  },
  {
   "cell_type": "code",
   "execution_count": 44,
   "id": "946a2c71",
   "metadata": {
    "scrolled": true
   },
   "outputs": [],
   "source": [
    "data <- merge(df_RT,df_info,by='sample',all.x=TRUE) %>%\n",
    "    rename(RT = medRt)"
   ]
  },
  {
   "cell_type": "code",
   "execution_count": 45,
   "id": "c2c9f31d",
   "metadata": {},
   "outputs": [
    {
     "data": {
      "text/html": [
       "<table class=\"dataframe\">\n",
       "<caption>A data.frame: 6 × 8</caption>\n",
       "<thead>\n",
       "\t<tr><th></th><th scope=col>sample</th><th scope=col>compound</th><th scope=col>compoundId</th><th scope=col>RT</th><th scope=col>date_measurement</th><th scope=col>exp_number</th><th scope=col>analysis_type</th><th scope=col>mode</th></tr>\n",
       "\t<tr><th></th><th scope=col>&lt;chr&gt;</th><th scope=col>&lt;fct&gt;</th><th scope=col>&lt;fct&gt;</th><th scope=col>&lt;dbl&gt;</th><th scope=col>&lt;dttm&gt;</th><th scope=col>&lt;chr&gt;</th><th scope=col>&lt;chr&gt;</th><th scope=col>&lt;chr&gt;</th></tr>\n",
       "</thead>\n",
       "<tbody>\n",
       "\t<tr><th scope=row>1</th><td>20201104_LS20-027_Lipids_Neg_Xin_6MLiver.csv</td><td>PE(C34:1) M-H  </td><td>PE(C34:1) M-H  </td><td> 9.308</td><td>2020-11-04</td><td>LS20-027</td><td>Lipids</td><td>Neg</td></tr>\n",
       "\t<tr><th scope=row>2</th><td>20201104_LS20-027_Lipids_Neg_Xin_6MLiver.csv</td><td>PE(C34:2) M-H  </td><td>PE(C34:2) M-H  </td><td> 9.020</td><td>2020-11-04</td><td>LS20-027</td><td>Lipids</td><td>Neg</td></tr>\n",
       "\t<tr><th scope=row>3</th><td>20201104_LS20-027_Lipids_Neg_Xin_6MLiver.csv</td><td>PE(C34:3) M-H  </td><td>PE(C34:3) M-H  </td><td> 8.754</td><td>2020-11-04</td><td>LS20-027</td><td>Lipids</td><td>Neg</td></tr>\n",
       "\t<tr><th scope=row>4</th><td>20201104_LS20-027_Lipids_Neg_Xin_6MLiver.csv</td><td>PE(O-C36:1) M-H</td><td>PE(O-C36:1) M-H</td><td>10.140</td><td>2020-11-04</td><td>LS20-027</td><td>Lipids</td><td>Neg</td></tr>\n",
       "\t<tr><th scope=row>5</th><td>20201104_LS20-027_Lipids_Neg_Xin_6MLiver.csv</td><td>PE(O-C36:2) M-H</td><td>PE(O-C36:2) M-H</td><td>10.026</td><td>2020-11-04</td><td>LS20-027</td><td>Lipids</td><td>Neg</td></tr>\n",
       "\t<tr><th scope=row>6</th><td>20201104_LS20-027_Lipids_Neg_Xin_6MLiver.csv</td><td>PE(O-C36:5) M-H</td><td>PE(O-C36:5) M-H</td><td> 9.132</td><td>2020-11-04</td><td>LS20-027</td><td>Lipids</td><td>Neg</td></tr>\n",
       "</tbody>\n",
       "</table>\n"
      ],
      "text/latex": [
       "A data.frame: 6 × 8\n",
       "\\begin{tabular}{r|llllllll}\n",
       "  & sample & compound & compoundId & RT & date\\_measurement & exp\\_number & analysis\\_type & mode\\\\\n",
       "  & <chr> & <fct> & <fct> & <dbl> & <dttm> & <chr> & <chr> & <chr>\\\\\n",
       "\\hline\n",
       "\t1 & 20201104\\_LS20-027\\_Lipids\\_Neg\\_Xin\\_6MLiver.csv & PE(C34:1) M-H   & PE(C34:1) M-H   &  9.308 & 2020-11-04 & LS20-027 & Lipids & Neg\\\\\n",
       "\t2 & 20201104\\_LS20-027\\_Lipids\\_Neg\\_Xin\\_6MLiver.csv & PE(C34:2) M-H   & PE(C34:2) M-H   &  9.020 & 2020-11-04 & LS20-027 & Lipids & Neg\\\\\n",
       "\t3 & 20201104\\_LS20-027\\_Lipids\\_Neg\\_Xin\\_6MLiver.csv & PE(C34:3) M-H   & PE(C34:3) M-H   &  8.754 & 2020-11-04 & LS20-027 & Lipids & Neg\\\\\n",
       "\t4 & 20201104\\_LS20-027\\_Lipids\\_Neg\\_Xin\\_6MLiver.csv & PE(O-C36:1) M-H & PE(O-C36:1) M-H & 10.140 & 2020-11-04 & LS20-027 & Lipids & Neg\\\\\n",
       "\t5 & 20201104\\_LS20-027\\_Lipids\\_Neg\\_Xin\\_6MLiver.csv & PE(O-C36:2) M-H & PE(O-C36:2) M-H & 10.026 & 2020-11-04 & LS20-027 & Lipids & Neg\\\\\n",
       "\t6 & 20201104\\_LS20-027\\_Lipids\\_Neg\\_Xin\\_6MLiver.csv & PE(O-C36:5) M-H & PE(O-C36:5) M-H &  9.132 & 2020-11-04 & LS20-027 & Lipids & Neg\\\\\n",
       "\\end{tabular}\n"
      ],
      "text/markdown": [
       "\n",
       "A data.frame: 6 × 8\n",
       "\n",
       "| <!--/--> | sample &lt;chr&gt; | compound &lt;fct&gt; | compoundId &lt;fct&gt; | RT &lt;dbl&gt; | date_measurement &lt;dttm&gt; | exp_number &lt;chr&gt; | analysis_type &lt;chr&gt; | mode &lt;chr&gt; |\n",
       "|---|---|---|---|---|---|---|---|---|\n",
       "| 1 | 20201104_LS20-027_Lipids_Neg_Xin_6MLiver.csv | PE(C34:1) M-H   | PE(C34:1) M-H   |  9.308 | 2020-11-04 | LS20-027 | Lipids | Neg |\n",
       "| 2 | 20201104_LS20-027_Lipids_Neg_Xin_6MLiver.csv | PE(C34:2) M-H   | PE(C34:2) M-H   |  9.020 | 2020-11-04 | LS20-027 | Lipids | Neg |\n",
       "| 3 | 20201104_LS20-027_Lipids_Neg_Xin_6MLiver.csv | PE(C34:3) M-H   | PE(C34:3) M-H   |  8.754 | 2020-11-04 | LS20-027 | Lipids | Neg |\n",
       "| 4 | 20201104_LS20-027_Lipids_Neg_Xin_6MLiver.csv | PE(O-C36:1) M-H | PE(O-C36:1) M-H | 10.140 | 2020-11-04 | LS20-027 | Lipids | Neg |\n",
       "| 5 | 20201104_LS20-027_Lipids_Neg_Xin_6MLiver.csv | PE(O-C36:2) M-H | PE(O-C36:2) M-H | 10.026 | 2020-11-04 | LS20-027 | Lipids | Neg |\n",
       "| 6 | 20201104_LS20-027_Lipids_Neg_Xin_6MLiver.csv | PE(O-C36:5) M-H | PE(O-C36:5) M-H |  9.132 | 2020-11-04 | LS20-027 | Lipids | Neg |\n",
       "\n"
      ],
      "text/plain": [
       "  sample                                       compound        compoundId     \n",
       "1 20201104_LS20-027_Lipids_Neg_Xin_6MLiver.csv PE(C34:1) M-H   PE(C34:1) M-H  \n",
       "2 20201104_LS20-027_Lipids_Neg_Xin_6MLiver.csv PE(C34:2) M-H   PE(C34:2) M-H  \n",
       "3 20201104_LS20-027_Lipids_Neg_Xin_6MLiver.csv PE(C34:3) M-H   PE(C34:3) M-H  \n",
       "4 20201104_LS20-027_Lipids_Neg_Xin_6MLiver.csv PE(O-C36:1) M-H PE(O-C36:1) M-H\n",
       "5 20201104_LS20-027_Lipids_Neg_Xin_6MLiver.csv PE(O-C36:2) M-H PE(O-C36:2) M-H\n",
       "6 20201104_LS20-027_Lipids_Neg_Xin_6MLiver.csv PE(O-C36:5) M-H PE(O-C36:5) M-H\n",
       "  RT     date_measurement exp_number analysis_type mode\n",
       "1  9.308 2020-11-04       LS20-027   Lipids        Neg \n",
       "2  9.020 2020-11-04       LS20-027   Lipids        Neg \n",
       "3  8.754 2020-11-04       LS20-027   Lipids        Neg \n",
       "4 10.140 2020-11-04       LS20-027   Lipids        Neg \n",
       "5 10.026 2020-11-04       LS20-027   Lipids        Neg \n",
       "6  9.132 2020-11-04       LS20-027   Lipids        Neg "
      ]
     },
     "metadata": {},
     "output_type": "display_data"
    }
   ],
   "source": [
    "head(data)"
   ]
  },
  {
   "cell_type": "markdown",
   "id": "f4f74cdd",
   "metadata": {},
   "source": [
    "# Put RT into context"
   ]
  },
  {
   "cell_type": "markdown",
   "id": "b1e89a34",
   "metadata": {},
   "source": [
    "## Calculate average RT"
   ]
  },
  {
   "cell_type": "code",
   "execution_count": 46,
   "id": "576f3bb9",
   "metadata": {},
   "outputs": [],
   "source": [
    "data_sum <- data %>%\n",
    "    group_by(compound) %>%\n",
    "    summarize(mean = mean(RT),\n",
    "              n = n(),\n",
    "              sd = sd(RT)\n",
    "             )"
   ]
  },
  {
   "cell_type": "markdown",
   "id": "56212b80",
   "metadata": {},
   "source": [
    "## Add statistics to main dataframe"
   ]
  },
  {
   "cell_type": "code",
   "execution_count": 47,
   "id": "57ac32c9",
   "metadata": {},
   "outputs": [],
   "source": [
    "data <- merge(data,data_sum,by='compound',all.x=TRUE)"
   ]
  },
  {
   "cell_type": "markdown",
   "id": "7a895af2",
   "metadata": {},
   "source": [
    "## Calculate difference between RT and meanRT"
   ]
  },
  {
   "cell_type": "code",
   "execution_count": 48,
   "id": "ec83519b",
   "metadata": {},
   "outputs": [],
   "source": [
    "data <- data %>%\n",
    "    mutate(cov = sd/mean*100)"
   ]
  },
  {
   "cell_type": "code",
   "execution_count": 49,
   "id": "4e7380e0",
   "metadata": {},
   "outputs": [
    {
     "data": {
      "text/html": [
       "<style>\n",
       ".list-inline {list-style: none; margin:0; padding: 0}\n",
       ".list-inline>li {display: inline-block}\n",
       ".list-inline>li:not(:last-child)::after {content: \"\\00b7\"; padding: 0 .5ex}\n",
       "</style>\n",
       "<ol class=list-inline><li>'compound'</li><li>'sample'</li><li>'compoundId'</li><li>'RT'</li><li>'date_measurement'</li><li>'exp_number'</li><li>'analysis_type'</li><li>'mode'</li><li>'mean'</li><li>'n'</li><li>'sd'</li><li>'cov'</li></ol>\n"
      ],
      "text/latex": [
       "\\begin{enumerate*}\n",
       "\\item 'compound'\n",
       "\\item 'sample'\n",
       "\\item 'compoundId'\n",
       "\\item 'RT'\n",
       "\\item 'date\\_measurement'\n",
       "\\item 'exp\\_number'\n",
       "\\item 'analysis\\_type'\n",
       "\\item 'mode'\n",
       "\\item 'mean'\n",
       "\\item 'n'\n",
       "\\item 'sd'\n",
       "\\item 'cov'\n",
       "\\end{enumerate*}\n"
      ],
      "text/markdown": [
       "1. 'compound'\n",
       "2. 'sample'\n",
       "3. 'compoundId'\n",
       "4. 'RT'\n",
       "5. 'date_measurement'\n",
       "6. 'exp_number'\n",
       "7. 'analysis_type'\n",
       "8. 'mode'\n",
       "9. 'mean'\n",
       "10. 'n'\n",
       "11. 'sd'\n",
       "12. 'cov'\n",
       "\n",
       "\n"
      ],
      "text/plain": [
       " [1] \"compound\"         \"sample\"           \"compoundId\"       \"RT\"              \n",
       " [5] \"date_measurement\" \"exp_number\"       \"analysis_type\"    \"mode\"            \n",
       " [9] \"mean\"             \"n\"                \"sd\"               \"cov\"             "
      ]
     },
     "metadata": {},
     "output_type": "display_data"
    }
   ],
   "source": [
    "names(data)"
   ]
  },
  {
   "cell_type": "markdown",
   "id": "2478b547",
   "metadata": {},
   "source": [
    "## Reorder columns"
   ]
  },
  {
   "cell_type": "code",
   "execution_count": 50,
   "id": "db1b315d",
   "metadata": {},
   "outputs": [],
   "source": [
    "data <- data[,c(2,6,5,8,7,3,1,4,9,12,10,11)]"
   ]
  },
  {
   "cell_type": "markdown",
   "id": "208a346d",
   "metadata": {},
   "source": [
    "# Print samples with deviating RT"
   ]
  },
  {
   "cell_type": "code",
   "execution_count": 51,
   "id": "d3692e9b",
   "metadata": {
    "scrolled": false
   },
   "outputs": [],
   "source": [
    "data_outliers <- data %>%\n",
    "    filter(cov > 15)"
   ]
  },
  {
   "cell_type": "code",
   "execution_count": 52,
   "id": "34f32b26",
   "metadata": {
    "scrolled": true
   },
   "outputs": [],
   "source": [
    "data_mean <- data %>%\n",
    "    group_by(compound) %>%\n",
    "    select(analysis_type, compound, mean, n, sd)"
   ]
  },
  {
   "cell_type": "markdown",
   "id": "ef9e1478",
   "metadata": {},
   "source": [
    "# Export"
   ]
  },
  {
   "cell_type": "code",
   "execution_count": 53,
   "id": "44378bab",
   "metadata": {},
   "outputs": [],
   "source": [
    "setwd('../')"
   ]
  },
  {
   "cell_type": "code",
   "execution_count": 55,
   "id": "d56e270e",
   "metadata": {},
   "outputs": [],
   "source": [
    "write.csv(data, 'RT_tidy.csv', row.names=FALSE)\n",
    "write.csv(data_mean, 'RT_mean.csv', row.names=FALSE)\n",
    "write.csv(data_outliers, 'RT_outliers.csv', row.names=FALSE)"
   ]
  }
 ],
 "metadata": {
  "kernelspec": {
   "display_name": "R",
   "language": "R",
   "name": "ir"
  },
  "language_info": {
   "codemirror_mode": "r",
   "file_extension": ".r",
   "mimetype": "text/x-r-source",
   "name": "R",
   "pygments_lexer": "r",
   "version": "3.6.3"
  },
  "toc": {
   "base_numbering": 1,
   "nav_menu": {},
   "number_sections": true,
   "sideBar": true,
   "skip_h1_title": false,
   "title_cell": "Table of Contents",
   "title_sidebar": "Contents",
   "toc_cell": false,
   "toc_position": {},
   "toc_section_display": true,
   "toc_window_display": false
  }
 },
 "nbformat": 4,
 "nbformat_minor": 5
}
